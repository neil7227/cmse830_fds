{
 "cells": [
  {
   "cell_type": "code",
   "execution_count": 1,
   "id": "e43156c9",
   "metadata": {},
   "outputs": [],
   "source": [
    "#import\n",
    "import pandas as pd "
   ]
  },
  {
   "cell_type": "code",
   "execution_count": 2,
   "id": "88fdbfae",
   "metadata": {},
   "outputs": [],
   "source": [
    "#read\n",
    "CPBL_data = pd.read_excel(\"CPBL_batter.xlsx\")\n",
    "MLB_data = pd.read_excel(\"MLB_batter.xlsx\")\n"
   ]
  },
  {
   "cell_type": "code",
   "execution_count": 4,
   "id": "6b1c6eae",
   "metadata": {},
   "outputs": [
    {
     "name": "stdout",
     "output_type": "stream",
     "text": [
      "<class 'pandas.core.frame.DataFrame'>\n",
      "RangeIndex: 163 entries, 0 to 162\n",
      "Data columns (total 18 columns):\n",
      " #   Column    Non-Null Count  Dtype  \n",
      "---  ------    --------------  -----  \n",
      " 0   球員        163 non-null    object \n",
      " 1   背號        163 non-null    int64  \n",
      " 2   PA        163 non-null    int64  \n",
      " 3   AVG       163 non-null    float64\n",
      " 4   OBP       163 non-null    float64\n",
      " 5   SLG       163 non-null    float64\n",
      " 6   ISO       163 non-null    float64\n",
      " 7   BABIP     161 non-null    float64\n",
      " 8   BIP%      163 non-null    float64\n",
      " 9   OPS       163 non-null    float64\n",
      " 10  OPS+      163 non-null    float64\n",
      " 11  tOPS+     163 non-null    float64\n",
      " 12  RC        163 non-null    float64\n",
      " 13  wOBA      163 non-null    float64\n",
      " 14  BB%       163 non-null    float64\n",
      " 15  BB/K      160 non-null    float64\n",
      " 16  K%        163 non-null    float64\n",
      " 17  PutAway%  163 non-null    float64\n",
      "dtypes: float64(15), int64(2), object(1)\n",
      "memory usage: 23.1+ KB\n"
     ]
    }
   ],
   "source": [
    "#first view\n",
    "CPBL_data.info()"
   ]
  },
  {
   "cell_type": "code",
   "execution_count": null,
   "id": "b4d38ce1",
   "metadata": {},
   "outputs": [
    {
     "name": "stdout",
     "output_type": "stream",
     "text": [
      "<class 'pandas.core.frame.DataFrame'>\n",
      "RangeIndex: 145 entries, 0 to 144\n",
      "Data columns (total 22 columns):\n",
      " #   Column  Non-Null Count  Dtype  \n",
      "---  ------  --------------  -----  \n",
      " 0   Name    145 non-null    object \n",
      " 1   Team    145 non-null    object \n",
      " 2   G       145 non-null    int64  \n",
      " 3   PA      145 non-null    int64  \n",
      " 4   HR      145 non-null    int64  \n",
      " 5   R       145 non-null    int64  \n",
      " 6   RBI     145 non-null    int64  \n",
      " 7   SB      145 non-null    int64  \n",
      " 8   BB%     145 non-null    float64\n",
      " 9   K%      145 non-null    float64\n",
      " 10  ISO     145 non-null    float64\n",
      " 11  BABIP   145 non-null    float64\n",
      " 12  AVG     145 non-null    float64\n",
      " 13  OBP     145 non-null    float64\n",
      " 14  SLG     145 non-null    float64\n",
      " 15  wOBA    145 non-null    float64\n",
      " 16  xwOBA   145 non-null    float64\n",
      " 17  wRC+    145 non-null    int64  \n",
      " 18  BsR     145 non-null    float64\n",
      " 19  Off     145 non-null    float64\n",
      " 20  Def     145 non-null    float64\n",
      " 21  WAR     145 non-null    float64\n",
      "dtypes: float64(13), int64(7), object(2)\n",
      "memory usage: 25.1+ KB\n"
     ]
    }
   ],
   "source": [
    "MLB_data.info()"
   ]
  }
 ],
 "metadata": {
  "kernelspec": {
   "display_name": "base",
   "language": "python",
   "name": "python3"
  },
  "language_info": {
   "codemirror_mode": {
    "name": "ipython",
    "version": 3
   },
   "file_extension": ".py",
   "mimetype": "text/x-python",
   "name": "python",
   "nbconvert_exporter": "python",
   "pygments_lexer": "ipython3",
   "version": "3.13.5"
  }
 },
 "nbformat": 4,
 "nbformat_minor": 5
}
