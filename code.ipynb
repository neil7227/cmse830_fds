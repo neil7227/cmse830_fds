{
 "cells": [
  {
   "cell_type": "code",
   "execution_count": 23,
   "id": "e43156c9",
   "metadata": {},
   "outputs": [],
   "source": [
    "#import\n",
    "import pandas as pd "
   ]
  },
  {
   "cell_type": "code",
   "execution_count": 24,
   "id": "88fdbfae",
   "metadata": {},
   "outputs": [],
   "source": [
    "#read\n",
    "CPBL_data = pd.read_excel(\"CPBL_batter.xlsx\")\n",
    "MLB_data = pd.read_excel(\"MLB_batter.xlsx\")\n"
   ]
  },
  {
   "cell_type": "code",
   "execution_count": 25,
   "id": "6b1c6eae",
   "metadata": {},
   "outputs": [
    {
     "name": "stdout",
     "output_type": "stream",
     "text": [
      "<class 'pandas.core.frame.DataFrame'>\n",
      "RangeIndex: 163 entries, 0 to 162\n",
      "Data columns (total 18 columns):\n",
      " #   Column  Non-Null Count  Dtype  \n",
      "---  ------  --------------  -----  \n",
      " 0   球員      163 non-null    object \n",
      " 1   隊伍      163 non-null    object \n",
      " 2   背號      163 non-null    int64  \n",
      " 3   PA      163 non-null    int64  \n",
      " 4   AVG     163 non-null    float64\n",
      " 5   OBP     163 non-null    float64\n",
      " 6   SLG     163 non-null    float64\n",
      " 7   ISO     163 non-null    float64\n",
      " 8   BABIP   161 non-null    float64\n",
      " 9   BIP%    163 non-null    float64\n",
      " 10  OPS     163 non-null    float64\n",
      " 11  OPS+    163 non-null    float64\n",
      " 12  tOPS+   163 non-null    float64\n",
      " 13  RC      163 non-null    float64\n",
      " 14  wOBA    163 non-null    float64\n",
      " 15  BB%     163 non-null    float64\n",
      " 16  BB/K    160 non-null    float64\n",
      " 17  K%      163 non-null    float64\n",
      "dtypes: float64(14), int64(2), object(2)\n",
      "memory usage: 23.1+ KB\n"
     ]
    }
   ],
   "source": [
    "#first view\n",
    "CPBL_data.info()"
   ]
  },
  {
   "cell_type": "code",
   "execution_count": 26,
   "id": "b4d38ce1",
   "metadata": {},
   "outputs": [
    {
     "name": "stdout",
     "output_type": "stream",
     "text": [
      "<class 'pandas.core.frame.DataFrame'>\n",
      "RangeIndex: 145 entries, 0 to 144\n",
      "Data columns (total 22 columns):\n",
      " #   Column  Non-Null Count  Dtype  \n",
      "---  ------  --------------  -----  \n",
      " 0   Name    145 non-null    object \n",
      " 1   Team    145 non-null    object \n",
      " 2   G       145 non-null    int64  \n",
      " 3   PA      145 non-null    int64  \n",
      " 4   HR      145 non-null    int64  \n",
      " 5   R       145 non-null    int64  \n",
      " 6   RBI     145 non-null    int64  \n",
      " 7   SB      145 non-null    int64  \n",
      " 8   BB%     145 non-null    float64\n",
      " 9   K%      145 non-null    float64\n",
      " 10  ISO     145 non-null    float64\n",
      " 11  BABIP   145 non-null    float64\n",
      " 12  AVG     145 non-null    float64\n",
      " 13  OBP     145 non-null    float64\n",
      " 14  SLG     145 non-null    float64\n",
      " 15  wOBA    145 non-null    float64\n",
      " 16  xwOBA   145 non-null    float64\n",
      " 17  wRC+    145 non-null    int64  \n",
      " 18  BsR     145 non-null    float64\n",
      " 19  Off     145 non-null    float64\n",
      " 20  Def     145 non-null    float64\n",
      " 21  WAR     145 non-null    float64\n",
      "dtypes: float64(13), int64(7), object(2)\n",
      "memory usage: 25.1+ KB\n"
     ]
    }
   ],
   "source": [
    "MLB_data.info()"
   ]
  },
  {
   "cell_type": "code",
   "execution_count": 27,
   "id": "431a247a",
   "metadata": {},
   "outputs": [
    {
     "name": "stdout",
     "output_type": "stream",
     "text": [
      "<class 'pandas.core.frame.DataFrame'>\n",
      "RangeIndex: 308 entries, 0 to 307\n",
      "Data columns (total 31 columns):\n",
      " #   Column  Non-Null Count  Dtype  \n",
      "---  ------  --------------  -----  \n",
      " 0   Name    145 non-null    object \n",
      " 1   Team    145 non-null    object \n",
      " 2   G       145 non-null    float64\n",
      " 3   PA      308 non-null    int64  \n",
      " 4   HR      145 non-null    float64\n",
      " 5   R       145 non-null    float64\n",
      " 6   RBI     145 non-null    float64\n",
      " 7   SB      145 non-null    float64\n",
      " 8   BB%     308 non-null    float64\n",
      " 9   K%      308 non-null    float64\n",
      " 10  ISO     308 non-null    float64\n",
      " 11  BABIP   306 non-null    float64\n",
      " 12  AVG     308 non-null    float64\n",
      " 13  OBP     308 non-null    float64\n",
      " 14  SLG     308 non-null    float64\n",
      " 15  wOBA    308 non-null    float64\n",
      " 16  xwOBA   145 non-null    float64\n",
      " 17  wRC+    145 non-null    float64\n",
      " 18  BsR     145 non-null    float64\n",
      " 19  Off     145 non-null    float64\n",
      " 20  Def     145 non-null    float64\n",
      " 21  WAR     145 non-null    float64\n",
      " 22  球員      163 non-null    object \n",
      " 23  隊伍      163 non-null    object \n",
      " 24  背號      163 non-null    float64\n",
      " 25  BIP%    163 non-null    float64\n",
      " 26  OPS     163 non-null    float64\n",
      " 27  OPS+    163 non-null    float64\n",
      " 28  tOPS+   163 non-null    float64\n",
      " 29  RC      163 non-null    float64\n",
      " 30  BB/K    160 non-null    float64\n",
      "dtypes: float64(26), int64(1), object(4)\n",
      "memory usage: 74.7+ KB\n"
     ]
    }
   ],
   "source": [
    "df = pd.concat([MLB_data, CPBL_data], axis=0, ignore_index=True)\n",
    "df.info()"
   ]
  },
  {
   "cell_type": "code",
   "execution_count": 28,
   "id": "716f58f9",
   "metadata": {},
   "outputs": [
    {
     "name": "stdout",
     "output_type": "stream",
     "text": [
      "same column:  {'wOBA', 'ISO', 'BB%', 'K%', 'BABIP', 'PA', 'OBP', 'SLG', 'AVG'} \n",
      "diff. column:  {'BIP%', 'Team', 'Off', 'WAR', 'G', '球員', 'BB/K', 'tOPS+', 'Name', 'RBI', 'R', 'xwOBA', 'OPS', '背號', 'HR', 'OPS+', 'SB', '隊伍', 'RC', 'Def', 'BsR', 'wRC+'}\n"
     ]
    }
   ],
   "source": [
    "#check column\n",
    "same_col = set(CPBL_data.columns) & set(MLB_data.columns)\n",
    "diff_col = set(CPBL_data.columns) ^ set(MLB_data.columns)\n",
    "print(\"same column: \", same_col, \"\\ndiff. column: \", diff_col)\n"
   ]
  },
  {
   "cell_type": "code",
   "execution_count": 29,
   "id": "912365de",
   "metadata": {},
   "outputs": [
    {
     "name": "stdout",
     "output_type": "stream",
     "text": [
      "<class 'pandas.core.frame.DataFrame'>\n",
      "RangeIndex: 308 entries, 0 to 307\n",
      "Data columns (total 19 columns):\n",
      " #   Column  Non-Null Count  Dtype  \n",
      "---  ------  --------------  -----  \n",
      " 0   Name    308 non-null    object \n",
      " 1   Team    308 non-null    object \n",
      " 2   PA      308 non-null    int64  \n",
      " 3   HR      145 non-null    float64\n",
      " 4   R       145 non-null    float64\n",
      " 5   RBI     145 non-null    float64\n",
      " 6   BB%     308 non-null    float64\n",
      " 7   K%      308 non-null    float64\n",
      " 8   ISO     308 non-null    float64\n",
      " 9   BABIP   306 non-null    float64\n",
      " 10  AVG     308 non-null    float64\n",
      " 11  OBP     308 non-null    float64\n",
      " 12  SLG     308 non-null    float64\n",
      " 13  wOBA    308 non-null    float64\n",
      " 14  wRC+    145 non-null    float64\n",
      " 15  BsR     145 non-null    float64\n",
      " 16  Off     308 non-null    float64\n",
      " 17  OPS+    308 non-null    float64\n",
      " 18  BIP%    163 non-null    float64\n",
      "dtypes: float64(16), int64(1), object(2)\n",
      "memory usage: 45.8+ KB\n"
     ]
    }
   ],
   "source": [
    "#data clean\n",
    "Scale = 1.232\n",
    "CPBL_data.drop(columns=['背號','BB/K','OPS','tOPS+','RC'], inplace=True)\n",
    "MLB_data.drop(columns=['G','WAR','xwOBA','Def','SB'], inplace=True)\n",
    "MLB_data['OPS+'] = 100 * (MLB_data['OBP']/MLB_data['OBP'].mean() + (MLB_data['SLG']/MLB_data['SLG'].mean()) - 1)\n",
    "CPBL_data['Off'] = (CPBL_data['wOBA']-CPBL_data['wOBA'].mean()/Scale) - CPBL_data['PA']\n",
    "CPBL_data.rename(columns={\n",
    "    '球員': 'Name',\n",
    "    '隊伍': 'Team'\n",
    "}, inplace=True)\n",
    "\n",
    "\n",
    "df = pd.concat([MLB_data, CPBL_data], axis=0, ignore_index=True)\n",
    "df.info()"
   ]
  }
 ],
 "metadata": {
  "kernelspec": {
   "display_name": "base",
   "language": "python",
   "name": "python3"
  },
  "language_info": {
   "codemirror_mode": {
    "name": "ipython",
    "version": 3
   },
   "file_extension": ".py",
   "mimetype": "text/x-python",
   "name": "python",
   "nbconvert_exporter": "python",
   "pygments_lexer": "ipython3",
   "version": "3.13.5"
  }
 },
 "nbformat": 4,
 "nbformat_minor": 5
}
